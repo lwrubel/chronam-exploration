{
 "cells": [
  {
   "cell_type": "markdown",
   "metadata": {},
   "source": [
    "# How many newspaper titles are available for each year in the Chronicling America collection?"
   ]
  },
  {
   "cell_type": "markdown",
   "metadata": {},
   "source": [
    "To answer this question, we'll use the Python library pandas, which is intended for data analysis. The ultimate goal is to create a CSV file with a column for each year and a column with the count of titles available for that year.\n",
    "\n",
    "I'm still wrapping my brain around pandas and I'm sure there are other ways to achieve similar results more efficiently. Let me know!"
   ]
  },
  {
   "cell_type": "markdown",
   "metadata": {},
   "source": [
    "The initial steps of this workbook are from the \"Read a Plain Text File of Newspapers into a DataFrame\" notebook posted by the Library of Congress at https://github.com/LibraryOfCongress/data-exploration/blob/master/Newspapers.txt.ipynb "
   ]
  },
  {
   "cell_type": "code",
   "execution_count": 538,
   "metadata": {
    "collapsed": false
   },
   "outputs": [],
   "source": [
    "import pandas as pd"
   ]
  },
  {
   "cell_type": "markdown",
   "metadata": {},
   "source": [
    "The newspapers.txt file on Chronicling America is delimited by the pipe | character, not a comma, with spaces around it. You can read it into a pandas DataFrame with the following command. Note we have to specify the python engine because we have to use a regex (regular expression) to define the separator. Also, we're not bringing in the final column from the original file, which is a \"more info\" link. "
   ]
  },
  {
   "cell_type": "code",
   "execution_count": 539,
   "metadata": {
    "collapsed": false
   },
   "outputs": [],
   "source": [
    "papers = pd.read_csv('http://chroniclingamerica.loc.gov/newspapers.txt', sep=' \\| ', skipinitialspace=True, usecols=[0,1,2,3,4,5,6,7,8], engine='python')"
   ]
  },
  {
   "cell_type": "code",
   "execution_count": 540,
   "metadata": {
    "collapsed": false
   },
   "outputs": [
    {
     "data": {
      "text/plain": [
       "pandas.core.frame.DataFrame"
      ]
     },
     "execution_count": 540,
     "metadata": {},
     "output_type": "execute_result"
    }
   ],
   "source": [
    "type(papers)"
   ]
  },
  {
   "cell_type": "markdown",
   "metadata": {},
   "source": [
    "Here's what the first few lines of the initial data looks like: "
   ]
  },
  {
   "cell_type": "code",
   "execution_count": 541,
   "metadata": {
    "collapsed": false
   },
   "outputs": [
    {
     "data": {
      "text/html": [
       "<div>\n",
       "<table border=\"1\" class=\"dataframe\">\n",
       "  <thead>\n",
       "    <tr style=\"text-align: right;\">\n",
       "      <th></th>\n",
       "      <th>Persistent Link</th>\n",
       "      <th>State</th>\n",
       "      <th>Title</th>\n",
       "      <th>LCCN</th>\n",
       "      <th>OCLC</th>\n",
       "      <th>ISSN</th>\n",
       "      <th>No. of Issues</th>\n",
       "      <th>First Issue Date</th>\n",
       "      <th>Last Issue Date</th>\n",
       "    </tr>\n",
       "  </thead>\n",
       "  <tbody>\n",
       "    <tr>\n",
       "      <th>0</th>\n",
       "      <td>http://chroniclingamerica.loc.gov/lccn/sn85025...</td>\n",
       "      <td>Alabama</td>\n",
       "      <td>Chattanooga daily rebel. (Selma, Ala.) 1865-1865</td>\n",
       "      <td>sn85025905</td>\n",
       "      <td>2638820</td>\n",
       "      <td>2328-5869</td>\n",
       "      <td>3</td>\n",
       "      <td>April 19, 1865</td>\n",
       "      <td>April 27, 1865</td>\n",
       "    </tr>\n",
       "    <tr>\n",
       "      <th>1</th>\n",
       "      <td>http://chroniclingamerica.loc.gov/lccn/sn82015...</td>\n",
       "      <td>Alabama</td>\n",
       "      <td>The Chattanooga Daily Rebel. (Chattanooga, Ten...</td>\n",
       "      <td>sn82015209</td>\n",
       "      <td>8807897</td>\n",
       "      <td>2328-5826</td>\n",
       "      <td>228</td>\n",
       "      <td>Aug. 9, 1862</td>\n",
       "      <td>April 22, 1864</td>\n",
       "    </tr>\n",
       "    <tr>\n",
       "      <th>2</th>\n",
       "      <td>http://chroniclingamerica.loc.gov/lccn/sn82014...</td>\n",
       "      <td>Alabama</td>\n",
       "      <td>The daily Chattanooga rebel. (Griffin, Ga.) 18...</td>\n",
       "      <td>sn82014371</td>\n",
       "      <td>8793427</td>\n",
       "      <td>2328-5761</td>\n",
       "      <td>41</td>\n",
       "      <td>June 9, 1864</td>\n",
       "      <td>April 15, 1865</td>\n",
       "    </tr>\n",
       "    <tr>\n",
       "      <th>3</th>\n",
       "      <td>http://chroniclingamerica.loc.gov/lccn/sn83045...</td>\n",
       "      <td>Alabama</td>\n",
       "      <td>Memphis daily appeal. (Memphis, Tenn.) 1847-1886</td>\n",
       "      <td>sn83045160</td>\n",
       "      <td>9355541</td>\n",
       "      <td>2166-1898</td>\n",
       "      <td>8088</td>\n",
       "      <td>Jan. 1, 1857</td>\n",
       "      <td>Jan. 27, 1886</td>\n",
       "    </tr>\n",
       "    <tr>\n",
       "      <th>4</th>\n",
       "      <td>http://chroniclingamerica.loc.gov/lccn/sn94051...</td>\n",
       "      <td>Arizona</td>\n",
       "      <td>The argus. (Holbrook, Ariz.) 1895-1900</td>\n",
       "      <td>sn94051341</td>\n",
       "      <td>25084608</td>\n",
       "      <td>2375-169X</td>\n",
       "      <td>220</td>\n",
       "      <td>Dec. 12, 1895</td>\n",
       "      <td>May 5, 1900</td>\n",
       "    </tr>\n",
       "  </tbody>\n",
       "</table>\n",
       "</div>"
      ],
      "text/plain": [
       "                                     Persistent Link    State  \\\n",
       "0  http://chroniclingamerica.loc.gov/lccn/sn85025...  Alabama   \n",
       "1  http://chroniclingamerica.loc.gov/lccn/sn82015...  Alabama   \n",
       "2  http://chroniclingamerica.loc.gov/lccn/sn82014...  Alabama   \n",
       "3  http://chroniclingamerica.loc.gov/lccn/sn83045...  Alabama   \n",
       "4  http://chroniclingamerica.loc.gov/lccn/sn94051...  Arizona   \n",
       "\n",
       "                                               Title        LCCN      OCLC  \\\n",
       "0   Chattanooga daily rebel. (Selma, Ala.) 1865-1865  sn85025905   2638820   \n",
       "1  The Chattanooga Daily Rebel. (Chattanooga, Ten...  sn82015209   8807897   \n",
       "2  The daily Chattanooga rebel. (Griffin, Ga.) 18...  sn82014371   8793427   \n",
       "3   Memphis daily appeal. (Memphis, Tenn.) 1847-1886  sn83045160   9355541   \n",
       "4             The argus. (Holbrook, Ariz.) 1895-1900  sn94051341  25084608   \n",
       "\n",
       "        ISSN  No. of Issues First Issue Date Last Issue Date  \n",
       "0  2328-5869              3   April 19, 1865  April 27, 1865  \n",
       "1  2328-5826            228     Aug. 9, 1862  April 22, 1864  \n",
       "2  2328-5761             41     June 9, 1864  April 15, 1865  \n",
       "3  2166-1898           8088     Jan. 1, 1857   Jan. 27, 1886  \n",
       "4  2375-169X            220    Dec. 12, 1895     May 5, 1900  "
      ]
     },
     "execution_count": 541,
     "metadata": {},
     "output_type": "execute_result"
    }
   ],
   "source": [
    "papers.head()"
   ]
  },
  {
   "cell_type": "markdown",
   "metadata": {},
   "source": [
    "How many papers are listed in the set?"
   ]
  },
  {
   "cell_type": "code",
   "execution_count": 542,
   "metadata": {
    "collapsed": false
   },
   "outputs": [
    {
     "data": {
      "text/plain": [
       "2240"
      ]
     },
     "execution_count": 542,
     "metadata": {},
     "output_type": "execute_result"
    }
   ],
   "source": [
    "len(papers.index)"
   ]
  },
  {
   "cell_type": "markdown",
   "metadata": {},
   "source": [
    "Some of these fields in the Last Issue Date have trailing delimiters. Let's use a regular expression to remove a space followed by a | in those cells. "
   ]
  },
  {
   "cell_type": "code",
   "execution_count": 543,
   "metadata": {
    "collapsed": false
   },
   "outputs": [],
   "source": [
    "papers[\"Last Issue Date\"] = papers[\"Last Issue Date\"].str.replace('(\\s+\\|)', '')"
   ]
  },
  {
   "cell_type": "markdown",
   "metadata": {},
   "source": [
    "Now convert each of those dates to a datetime format. That will make it easier to pull out just the year later on. "
   ]
  },
  {
   "cell_type": "code",
   "execution_count": 544,
   "metadata": {
    "collapsed": true
   },
   "outputs": [],
   "source": [
    "papers[\"First Issue Date\"] = pd.to_datetime(papers[\"First Issue Date\"])"
   ]
  },
  {
   "cell_type": "code",
   "execution_count": 545,
   "metadata": {
    "collapsed": false
   },
   "outputs": [],
   "source": [
    "papers[\"Last Issue Date\"] = pd.to_datetime(papers[\"Last Issue Date\"])"
   ]
  },
  {
   "cell_type": "markdown",
   "metadata": {},
   "source": [
    "What data type is the Issue date column?"
   ]
  },
  {
   "cell_type": "code",
   "execution_count": 546,
   "metadata": {
    "collapsed": false
   },
   "outputs": [
    {
     "data": {
      "text/plain": [
       "dtype('<M8[ns]')"
      ]
     },
     "execution_count": 546,
     "metadata": {},
     "output_type": "execute_result"
    }
   ],
   "source": [
    "papers[\"Last Issue Date\"].dtype"
   ]
  },
  {
   "cell_type": "markdown",
   "metadata": {},
   "source": [
    "That will work. So what does the data look like with the dates converted to date formats?"
   ]
  },
  {
   "cell_type": "code",
   "execution_count": 374,
   "metadata": {
    "collapsed": false
   },
   "outputs": [
    {
     "data": {
      "text/html": [
       "<div>\n",
       "<table border=\"1\" class=\"dataframe\">\n",
       "  <thead>\n",
       "    <tr style=\"text-align: right;\">\n",
       "      <th></th>\n",
       "      <th>Persistent Link</th>\n",
       "      <th>State</th>\n",
       "      <th>Title</th>\n",
       "      <th>LCCN</th>\n",
       "      <th>OCLC</th>\n",
       "      <th>ISSN</th>\n",
       "      <th>No. of Issues</th>\n",
       "      <th>First Issue Date</th>\n",
       "      <th>Last Issue Date</th>\n",
       "    </tr>\n",
       "  </thead>\n",
       "  <tbody>\n",
       "    <tr>\n",
       "      <th>0</th>\n",
       "      <td>http://chroniclingamerica.loc.gov/lccn/sn85025...</td>\n",
       "      <td>Alabama</td>\n",
       "      <td>Chattanooga daily rebel. (Selma, Ala.) 1865-1865</td>\n",
       "      <td>sn85025905</td>\n",
       "      <td>2638820</td>\n",
       "      <td>2328-5869</td>\n",
       "      <td>3</td>\n",
       "      <td>1865-04-19</td>\n",
       "      <td>1865-04-27</td>\n",
       "    </tr>\n",
       "    <tr>\n",
       "      <th>1</th>\n",
       "      <td>http://chroniclingamerica.loc.gov/lccn/sn82015...</td>\n",
       "      <td>Alabama</td>\n",
       "      <td>The Chattanooga Daily Rebel. (Chattanooga, Ten...</td>\n",
       "      <td>sn82015209</td>\n",
       "      <td>8807897</td>\n",
       "      <td>2328-5826</td>\n",
       "      <td>228</td>\n",
       "      <td>1862-08-09</td>\n",
       "      <td>1864-04-22</td>\n",
       "    </tr>\n",
       "    <tr>\n",
       "      <th>2</th>\n",
       "      <td>http://chroniclingamerica.loc.gov/lccn/sn82014...</td>\n",
       "      <td>Alabama</td>\n",
       "      <td>The daily Chattanooga rebel. (Griffin, Ga.) 18...</td>\n",
       "      <td>sn82014371</td>\n",
       "      <td>8793427</td>\n",
       "      <td>2328-5761</td>\n",
       "      <td>41</td>\n",
       "      <td>1864-06-09</td>\n",
       "      <td>1865-04-15</td>\n",
       "    </tr>\n",
       "    <tr>\n",
       "      <th>3</th>\n",
       "      <td>http://chroniclingamerica.loc.gov/lccn/sn83045...</td>\n",
       "      <td>Alabama</td>\n",
       "      <td>Memphis daily appeal. (Memphis, Tenn.) 1847-1886</td>\n",
       "      <td>sn83045160</td>\n",
       "      <td>9355541</td>\n",
       "      <td>2166-1898</td>\n",
       "      <td>8088</td>\n",
       "      <td>1857-01-01</td>\n",
       "      <td>1886-01-27</td>\n",
       "    </tr>\n",
       "    <tr>\n",
       "      <th>4</th>\n",
       "      <td>http://chroniclingamerica.loc.gov/lccn/sn94051...</td>\n",
       "      <td>Arizona</td>\n",
       "      <td>The argus. (Holbrook, Ariz.) 1895-1900</td>\n",
       "      <td>sn94051341</td>\n",
       "      <td>25084608</td>\n",
       "      <td>2375-169X</td>\n",
       "      <td>220</td>\n",
       "      <td>1895-12-12</td>\n",
       "      <td>1900-05-05</td>\n",
       "    </tr>\n",
       "  </tbody>\n",
       "</table>\n",
       "</div>"
      ],
      "text/plain": [
       "                                     Persistent Link    State  \\\n",
       "0  http://chroniclingamerica.loc.gov/lccn/sn85025...  Alabama   \n",
       "1  http://chroniclingamerica.loc.gov/lccn/sn82015...  Alabama   \n",
       "2  http://chroniclingamerica.loc.gov/lccn/sn82014...  Alabama   \n",
       "3  http://chroniclingamerica.loc.gov/lccn/sn83045...  Alabama   \n",
       "4  http://chroniclingamerica.loc.gov/lccn/sn94051...  Arizona   \n",
       "\n",
       "                                               Title        LCCN      OCLC  \\\n",
       "0   Chattanooga daily rebel. (Selma, Ala.) 1865-1865  sn85025905   2638820   \n",
       "1  The Chattanooga Daily Rebel. (Chattanooga, Ten...  sn82015209   8807897   \n",
       "2  The daily Chattanooga rebel. (Griffin, Ga.) 18...  sn82014371   8793427   \n",
       "3   Memphis daily appeal. (Memphis, Tenn.) 1847-1886  sn83045160   9355541   \n",
       "4             The argus. (Holbrook, Ariz.) 1895-1900  sn94051341  25084608   \n",
       "\n",
       "        ISSN  No. of Issues First Issue Date Last Issue Date  \n",
       "0  2328-5869              3       1865-04-19      1865-04-27  \n",
       "1  2328-5826            228       1862-08-09      1864-04-22  \n",
       "2  2328-5761             41       1864-06-09      1865-04-15  \n",
       "3  2166-1898           8088       1857-01-01      1886-01-27  \n",
       "4  2375-169X            220       1895-12-12      1900-05-05  "
      ]
     },
     "execution_count": 374,
     "metadata": {},
     "output_type": "execute_result"
    }
   ],
   "source": [
    "papers.head()"
   ]
  },
  {
   "cell_type": "markdown",
   "metadata": {},
   "source": [
    "Now let's pull out the years and put them into their own new columns."
   ]
  },
  {
   "cell_type": "code",
   "execution_count": 553,
   "metadata": {
    "collapsed": false
   },
   "outputs": [],
   "source": [
    "papers[\"Start\"] = papers[\"First Issue Date\"].dt.year"
   ]
  },
  {
   "cell_type": "code",
   "execution_count": 554,
   "metadata": {
    "collapsed": false
   },
   "outputs": [],
   "source": [
    "papers[\"Last\"] = papers[\"Last Issue Date\"].dt.year"
   ]
  },
  {
   "cell_type": "code",
   "execution_count": 555,
   "metadata": {
    "collapsed": false
   },
   "outputs": [
    {
     "data": {
      "text/html": [
       "<div>\n",
       "<table border=\"1\" class=\"dataframe\">\n",
       "  <thead>\n",
       "    <tr style=\"text-align: right;\">\n",
       "      <th></th>\n",
       "      <th>Persistent Link</th>\n",
       "      <th>State</th>\n",
       "      <th>Title</th>\n",
       "      <th>LCCN</th>\n",
       "      <th>OCLC</th>\n",
       "      <th>ISSN</th>\n",
       "      <th>No. of Issues</th>\n",
       "      <th>First Issue Date</th>\n",
       "      <th>Last Issue Date</th>\n",
       "      <th>Start</th>\n",
       "      <th>Last</th>\n",
       "    </tr>\n",
       "  </thead>\n",
       "  <tbody>\n",
       "    <tr>\n",
       "      <th>0</th>\n",
       "      <td>http://chroniclingamerica.loc.gov/lccn/sn85025...</td>\n",
       "      <td>Alabama</td>\n",
       "      <td>Chattanooga daily rebel. (Selma, Ala.) 1865-1865</td>\n",
       "      <td>sn85025905</td>\n",
       "      <td>2638820</td>\n",
       "      <td>2328-5869</td>\n",
       "      <td>3</td>\n",
       "      <td>1865-04-19</td>\n",
       "      <td>1865-04-27</td>\n",
       "      <td>1865</td>\n",
       "      <td>1865</td>\n",
       "    </tr>\n",
       "    <tr>\n",
       "      <th>1</th>\n",
       "      <td>http://chroniclingamerica.loc.gov/lccn/sn82015...</td>\n",
       "      <td>Alabama</td>\n",
       "      <td>The Chattanooga Daily Rebel. (Chattanooga, Ten...</td>\n",
       "      <td>sn82015209</td>\n",
       "      <td>8807897</td>\n",
       "      <td>2328-5826</td>\n",
       "      <td>228</td>\n",
       "      <td>1862-08-09</td>\n",
       "      <td>1864-04-22</td>\n",
       "      <td>1862</td>\n",
       "      <td>1864</td>\n",
       "    </tr>\n",
       "    <tr>\n",
       "      <th>2</th>\n",
       "      <td>http://chroniclingamerica.loc.gov/lccn/sn82014...</td>\n",
       "      <td>Alabama</td>\n",
       "      <td>The daily Chattanooga rebel. (Griffin, Ga.) 18...</td>\n",
       "      <td>sn82014371</td>\n",
       "      <td>8793427</td>\n",
       "      <td>2328-5761</td>\n",
       "      <td>41</td>\n",
       "      <td>1864-06-09</td>\n",
       "      <td>1865-04-15</td>\n",
       "      <td>1864</td>\n",
       "      <td>1865</td>\n",
       "    </tr>\n",
       "    <tr>\n",
       "      <th>3</th>\n",
       "      <td>http://chroniclingamerica.loc.gov/lccn/sn83045...</td>\n",
       "      <td>Alabama</td>\n",
       "      <td>Memphis daily appeal. (Memphis, Tenn.) 1847-1886</td>\n",
       "      <td>sn83045160</td>\n",
       "      <td>9355541</td>\n",
       "      <td>2166-1898</td>\n",
       "      <td>8088</td>\n",
       "      <td>1857-01-01</td>\n",
       "      <td>1886-01-27</td>\n",
       "      <td>1857</td>\n",
       "      <td>1886</td>\n",
       "    </tr>\n",
       "    <tr>\n",
       "      <th>4</th>\n",
       "      <td>http://chroniclingamerica.loc.gov/lccn/sn94051...</td>\n",
       "      <td>Arizona</td>\n",
       "      <td>The argus. (Holbrook, Ariz.) 1895-1900</td>\n",
       "      <td>sn94051341</td>\n",
       "      <td>25084608</td>\n",
       "      <td>2375-169X</td>\n",
       "      <td>220</td>\n",
       "      <td>1895-12-12</td>\n",
       "      <td>1900-05-05</td>\n",
       "      <td>1895</td>\n",
       "      <td>1900</td>\n",
       "    </tr>\n",
       "  </tbody>\n",
       "</table>\n",
       "</div>"
      ],
      "text/plain": [
       "                                     Persistent Link    State  \\\n",
       "0  http://chroniclingamerica.loc.gov/lccn/sn85025...  Alabama   \n",
       "1  http://chroniclingamerica.loc.gov/lccn/sn82015...  Alabama   \n",
       "2  http://chroniclingamerica.loc.gov/lccn/sn82014...  Alabama   \n",
       "3  http://chroniclingamerica.loc.gov/lccn/sn83045...  Alabama   \n",
       "4  http://chroniclingamerica.loc.gov/lccn/sn94051...  Arizona   \n",
       "\n",
       "                                               Title        LCCN      OCLC  \\\n",
       "0   Chattanooga daily rebel. (Selma, Ala.) 1865-1865  sn85025905   2638820   \n",
       "1  The Chattanooga Daily Rebel. (Chattanooga, Ten...  sn82015209   8807897   \n",
       "2  The daily Chattanooga rebel. (Griffin, Ga.) 18...  sn82014371   8793427   \n",
       "3   Memphis daily appeal. (Memphis, Tenn.) 1847-1886  sn83045160   9355541   \n",
       "4             The argus. (Holbrook, Ariz.) 1895-1900  sn94051341  25084608   \n",
       "\n",
       "        ISSN  No. of Issues First Issue Date Last Issue Date  Start  Last  \n",
       "0  2328-5869              3       1865-04-19      1865-04-27   1865  1865  \n",
       "1  2328-5826            228       1862-08-09      1864-04-22   1862  1864  \n",
       "2  2328-5761             41       1864-06-09      1865-04-15   1864  1865  \n",
       "3  2166-1898           8088       1857-01-01      1886-01-27   1857  1886  \n",
       "4  2375-169X            220       1895-12-12      1900-05-05   1895  1900  "
      ]
     },
     "execution_count": 555,
     "metadata": {},
     "output_type": "execute_result"
    }
   ],
   "source": [
    "papers.head()"
   ]
  },
  {
   "cell_type": "markdown",
   "metadata": {},
   "source": [
    "Just for kicks, let's create a new dataframe with a row for each year of a title's coverage. This might be useful for other purposes later on. "
   ]
  },
  {
   "cell_type": "code",
   "execution_count": 556,
   "metadata": {
    "collapsed": false
   },
   "outputs": [
    {
     "data": {
      "text/html": [
       "<div>\n",
       "<table border=\"1\" class=\"dataframe\">\n",
       "  <thead>\n",
       "    <tr style=\"text-align: right;\">\n",
       "      <th></th>\n",
       "      <th>State</th>\n",
       "      <th>Title</th>\n",
       "      <th>Year</th>\n",
       "    </tr>\n",
       "  </thead>\n",
       "  <tbody>\n",
       "  </tbody>\n",
       "</table>\n",
       "</div>"
      ],
      "text/plain": [
       "Empty DataFrame\n",
       "Columns: [State, Title, Year]\n",
       "Index: []"
      ]
     },
     "execution_count": 556,
     "metadata": {},
     "output_type": "execute_result"
    }
   ],
   "source": [
    "years_df = pd.DataFrame(columns=(\"State\",\"Title\",\"Year\"))\n",
    "years_df.head()"
   ]
  },
  {
   "cell_type": "code",
   "execution_count": 557,
   "metadata": {
    "collapsed": false
   },
   "outputs": [],
   "source": [
    "# For each title in the original dataframe, \n",
    "# create a range for the years from Start to Last. \n",
    "# Then add a new row for each year of coverage. \n",
    "for i in range(len(papers.index)):\n",
    "    for year in range(papers.loc[i][\"Start\"], (papers.loc[i][\"Last\"] + 1)):\n",
    "        s = pd.Series({\"State\": papers.loc[i][\"State\"], \"Title\": papers.loc[i][\"Title\"], \"Year\": year})\n",
    "        years_df.loc[len(years_df)]= s.astype(str)\n",
    "        "
   ]
  },
  {
   "cell_type": "markdown",
   "metadata": {},
   "source": [
    "How many rows are in this new dataframe?"
   ]
  },
  {
   "cell_type": "code",
   "execution_count": 558,
   "metadata": {
    "collapsed": false
   },
   "outputs": [
    {
     "data": {
      "text/plain": [
       "24146"
      ]
     },
     "execution_count": 558,
     "metadata": {},
     "output_type": "execute_result"
    }
   ],
   "source": [
    "len(years_df.index)"
   ]
  },
  {
   "cell_type": "code",
   "execution_count": 559,
   "metadata": {
    "collapsed": false
   },
   "outputs": [
    {
     "data": {
      "text/html": [
       "<div>\n",
       "<table border=\"1\" class=\"dataframe\">\n",
       "  <thead>\n",
       "    <tr style=\"text-align: right;\">\n",
       "      <th></th>\n",
       "      <th>State</th>\n",
       "      <th>Title</th>\n",
       "      <th>Year</th>\n",
       "    </tr>\n",
       "  </thead>\n",
       "  <tbody>\n",
       "    <tr>\n",
       "      <th>0</th>\n",
       "      <td>Alabama</td>\n",
       "      <td>Chattanooga daily rebel. (Selma, Ala.) 1865-1865</td>\n",
       "      <td>1865</td>\n",
       "    </tr>\n",
       "    <tr>\n",
       "      <th>1</th>\n",
       "      <td>Alabama</td>\n",
       "      <td>The Chattanooga Daily Rebel. (Chattanooga, Ten...</td>\n",
       "      <td>1862</td>\n",
       "    </tr>\n",
       "    <tr>\n",
       "      <th>2</th>\n",
       "      <td>Alabama</td>\n",
       "      <td>The Chattanooga Daily Rebel. (Chattanooga, Ten...</td>\n",
       "      <td>1863</td>\n",
       "    </tr>\n",
       "    <tr>\n",
       "      <th>3</th>\n",
       "      <td>Alabama</td>\n",
       "      <td>The Chattanooga Daily Rebel. (Chattanooga, Ten...</td>\n",
       "      <td>1864</td>\n",
       "    </tr>\n",
       "    <tr>\n",
       "      <th>4</th>\n",
       "      <td>Alabama</td>\n",
       "      <td>The daily Chattanooga rebel. (Griffin, Ga.) 18...</td>\n",
       "      <td>1864</td>\n",
       "    </tr>\n",
       "  </tbody>\n",
       "</table>\n",
       "</div>"
      ],
      "text/plain": [
       "     State                                              Title  Year\n",
       "0  Alabama   Chattanooga daily rebel. (Selma, Ala.) 1865-1865  1865\n",
       "1  Alabama  The Chattanooga Daily Rebel. (Chattanooga, Ten...  1862\n",
       "2  Alabama  The Chattanooga Daily Rebel. (Chattanooga, Ten...  1863\n",
       "3  Alabama  The Chattanooga Daily Rebel. (Chattanooga, Ten...  1864\n",
       "4  Alabama  The daily Chattanooga rebel. (Griffin, Ga.) 18...  1864"
      ]
     },
     "execution_count": 559,
     "metadata": {},
     "output_type": "execute_result"
    }
   ],
   "source": [
    "years_df.head()"
   ]
  },
  {
   "cell_type": "markdown",
   "metadata": {},
   "source": [
    "That's a useful table. Let's save it as CSV, without the index column. "
   ]
  },
  {
   "cell_type": "code",
   "execution_count": 483,
   "metadata": {
    "collapsed": true
   },
   "outputs": [],
   "source": [
    "years_df.to_csv(path_or_buf=\"years-list.csv\", index=False)"
   ]
  },
  {
   "cell_type": "markdown",
   "metadata": {},
   "source": [
    "Now roll up this list by year, with a show the count for each year, and put in a new DataFrame. "
   ]
  },
  {
   "cell_type": "code",
   "execution_count": 560,
   "metadata": {
    "collapsed": false
   },
   "outputs": [],
   "source": [
    "years_count_df = pd.DataFrame(years_df.groupby([\"Year\"]).size())"
   ]
  },
  {
   "cell_type": "code",
   "execution_count": 561,
   "metadata": {
    "collapsed": false
   },
   "outputs": [
    {
     "data": {
      "text/html": [
       "<div>\n",
       "<table border=\"1\" class=\"dataframe\">\n",
       "  <thead>\n",
       "    <tr style=\"text-align: right;\">\n",
       "      <th></th>\n",
       "      <th>0</th>\n",
       "    </tr>\n",
       "    <tr>\n",
       "      <th>Year</th>\n",
       "      <th></th>\n",
       "    </tr>\n",
       "  </thead>\n",
       "  <tbody>\n",
       "    <tr>\n",
       "      <th>1789</th>\n",
       "      <td>2</td>\n",
       "    </tr>\n",
       "    <tr>\n",
       "      <th>1790</th>\n",
       "      <td>2</td>\n",
       "    </tr>\n",
       "    <tr>\n",
       "      <th>1791</th>\n",
       "      <td>3</td>\n",
       "    </tr>\n",
       "    <tr>\n",
       "      <th>1792</th>\n",
       "      <td>3</td>\n",
       "    </tr>\n",
       "    <tr>\n",
       "      <th>1793</th>\n",
       "      <td>3</td>\n",
       "    </tr>\n",
       "  </tbody>\n",
       "</table>\n",
       "</div>"
      ],
      "text/plain": [
       "      0\n",
       "Year   \n",
       "1789  2\n",
       "1790  2\n",
       "1791  3\n",
       "1792  3\n",
       "1793  3"
      ]
     },
     "execution_count": 561,
     "metadata": {},
     "output_type": "execute_result"
    }
   ],
   "source": [
    "years_count_df.head()"
   ]
  },
  {
   "cell_type": "code",
   "execution_count": 562,
   "metadata": {
    "collapsed": false
   },
   "outputs": [
    {
     "data": {
      "text/plain": [
       "118"
      ]
     },
     "execution_count": 562,
     "metadata": {},
     "output_type": "execute_result"
    }
   ],
   "source": [
    "len(years_count_df)"
   ]
  },
  {
   "cell_type": "markdown",
   "metadata": {},
   "source": [
    "That's not enough years between 1789 and 1924, so some years must be missing. We'll need to find and insert those years, with a count of 0. Then we need to sort the index so that those new index values fall into place in the timeline, rather than being added at the end. "
   ]
  },
  {
   "cell_type": "code",
   "execution_count": 563,
   "metadata": {
    "collapsed": false
   },
   "outputs": [
    {
     "data": {
      "text/plain": [
       "['1789',\n",
       " '1790',\n",
       " '1791',\n",
       " '1792',\n",
       " '1793',\n",
       " '1794',\n",
       " '1795',\n",
       " '1796',\n",
       " '1797',\n",
       " '1798',\n",
       " '1799',\n",
       " '1800',\n",
       " '1801',\n",
       " '1802',\n",
       " '1803',\n",
       " '1804',\n",
       " '1805',\n",
       " '1806',\n",
       " '1807',\n",
       " '1808',\n",
       " '1809',\n",
       " '1828',\n",
       " '1829',\n",
       " '1830',\n",
       " '1831',\n",
       " '1832',\n",
       " '1833',\n",
       " '1834',\n",
       " '1835',\n",
       " '1836',\n",
       " '1837',\n",
       " '1838',\n",
       " '1839',\n",
       " '1840',\n",
       " '1841',\n",
       " '1842',\n",
       " '1843',\n",
       " '1844',\n",
       " '1845',\n",
       " '1846',\n",
       " '1847',\n",
       " '1848',\n",
       " '1849',\n",
       " '1850',\n",
       " '1851',\n",
       " '1852',\n",
       " '1853',\n",
       " '1854',\n",
       " '1855',\n",
       " '1856',\n",
       " '1857',\n",
       " '1858',\n",
       " '1859',\n",
       " '1860',\n",
       " '1861',\n",
       " '1862',\n",
       " '1863',\n",
       " '1864',\n",
       " '1865',\n",
       " '1866',\n",
       " '1867',\n",
       " '1868',\n",
       " '1869',\n",
       " '1870',\n",
       " '1871',\n",
       " '1872',\n",
       " '1873',\n",
       " '1874',\n",
       " '1875',\n",
       " '1876',\n",
       " '1877',\n",
       " '1878',\n",
       " '1879',\n",
       " '1880',\n",
       " '1881',\n",
       " '1882',\n",
       " '1883',\n",
       " '1884',\n",
       " '1885',\n",
       " '1886',\n",
       " '1887',\n",
       " '1888',\n",
       " '1889',\n",
       " '1890',\n",
       " '1891',\n",
       " '1892',\n",
       " '1893',\n",
       " '1894',\n",
       " '1895',\n",
       " '1896',\n",
       " '1897',\n",
       " '1898',\n",
       " '1899',\n",
       " '1900',\n",
       " '1901',\n",
       " '1902',\n",
       " '1903',\n",
       " '1904',\n",
       " '1905',\n",
       " '1906',\n",
       " '1907',\n",
       " '1908',\n",
       " '1909',\n",
       " '1910',\n",
       " '1911',\n",
       " '1912',\n",
       " '1913',\n",
       " '1914',\n",
       " '1915',\n",
       " '1916',\n",
       " '1917',\n",
       " '1918',\n",
       " '1919',\n",
       " '1920',\n",
       " '1921',\n",
       " '1922',\n",
       " '1923',\n",
       " '1924',\n",
       " '1810',\n",
       " '1811',\n",
       " '1812',\n",
       " '1813',\n",
       " '1814',\n",
       " '1815',\n",
       " '1816',\n",
       " '1817',\n",
       " '1818',\n",
       " '1819',\n",
       " '1820',\n",
       " '1821',\n",
       " '1822',\n",
       " '1823',\n",
       " '1824',\n",
       " '1825',\n",
       " '1826',\n",
       " '1827']"
      ]
     },
     "execution_count": 563,
     "metadata": {},
     "output_type": "execute_result"
    }
   ],
   "source": [
    "#need to identify missing years (e.g. 1810s) and add a count of 0\n",
    "for y in range(1789,1925):\n",
    "    x = str(y)\n",
    "    if x not in years_count_df.index.values:\n",
    "        years_count_df.loc[x]=[0]\n",
    "\n",
    "years_count_df.index.tolist()\n"
   ]
  },
  {
   "cell_type": "markdown",
   "metadata": {},
   "source": [
    "Oops, those new rows got added at the end, which won't make sense for time-ordered data. Let's sort the index. "
   ]
  },
  {
   "cell_type": "code",
   "execution_count": 564,
   "metadata": {
    "collapsed": true
   },
   "outputs": [],
   "source": [
    "years_count_df.sort_index(inplace=True)"
   ]
  },
  {
   "cell_type": "code",
   "execution_count": 565,
   "metadata": {
    "collapsed": false
   },
   "outputs": [
    {
     "data": {
      "text/plain": [
       "136"
      ]
     },
     "execution_count": 565,
     "metadata": {},
     "output_type": "execute_result"
    }
   ],
   "source": [
    "len(years_count_df)\n"
   ]
  },
  {
   "cell_type": "markdown",
   "metadata": {},
   "source": [
    "Now to create a chart showing the numbers of papers each year. "
   ]
  },
  {
   "cell_type": "code",
   "execution_count": 566,
   "metadata": {
    "collapsed": true
   },
   "outputs": [],
   "source": [
    "% matplotlib inline"
   ]
  },
  {
   "cell_type": "code",
   "execution_count": 567,
   "metadata": {
    "collapsed": false
   },
   "outputs": [
    {
     "data": {
      "image/png": "[encoded data removed]",
      "text/plain": [
       "<matplotlib.figure.Figure at 0x1b2895908>"
      ]
     },
     "metadata": {},
     "output_type": "display_data"
    }
   ],
   "source": [
    "years_count_df.plot(kind='barh', figsize=(20,75)).invert_yaxis()"
   ]
  },
  {
   "cell_type": "markdown",
   "metadata": {},
   "source": [
    "Let's save this data to CSV! This file will be useful in other applications for examining the data. "
   ]
  },
  {
   "cell_type": "code",
   "execution_count": 568,
   "metadata": {
    "collapsed": true
   },
   "outputs": [],
   "source": [
    "years_count_df.to_csv(path_or_buf=\"final-counts.csv\")"
   ]
  },
  {
   "cell_type": "markdown",
   "metadata": {},
   "source": [
    "Change of pace: want to hear a sonification of this graph? I posted [a sound file on Soundcloud](https://soundcloud.com/laurasaurus5/chronicling-america-titles-over-time). Be sure to read the description to get the details on what you're hearing. "
   ]
  },
  {
   "cell_type": "markdown",
   "metadata": {},
   "source": [
    "So what are the min and max counts? How many years altogether in this file? "
   ]
  },
  {
   "cell_type": "code",
   "execution_count": 570,
   "metadata": {
    "collapsed": false
   },
   "outputs": [
    {
     "data": {
      "text/html": [
       "<div>\n",
       "<table border=\"1\" class=\"dataframe\">\n",
       "  <thead>\n",
       "    <tr style=\"text-align: right;\">\n",
       "      <th></th>\n",
       "      <th>0</th>\n",
       "    </tr>\n",
       "  </thead>\n",
       "  <tbody>\n",
       "    <tr>\n",
       "      <th>count</th>\n",
       "      <td>136.000000</td>\n",
       "    </tr>\n",
       "    <tr>\n",
       "      <th>mean</th>\n",
       "      <td>177.544118</td>\n",
       "    </tr>\n",
       "    <tr>\n",
       "      <th>std</th>\n",
       "      <td>179.249252</td>\n",
       "    </tr>\n",
       "    <tr>\n",
       "      <th>min</th>\n",
       "      <td>0.000000</td>\n",
       "    </tr>\n",
       "    <tr>\n",
       "      <th>25%</th>\n",
       "      <td>1.000000</td>\n",
       "    </tr>\n",
       "    <tr>\n",
       "      <th>50%</th>\n",
       "      <td>130.000000</td>\n",
       "    </tr>\n",
       "    <tr>\n",
       "      <th>75%</th>\n",
       "      <td>320.500000</td>\n",
       "    </tr>\n",
       "    <tr>\n",
       "      <th>max</th>\n",
       "      <td>526.000000</td>\n",
       "    </tr>\n",
       "  </tbody>\n",
       "</table>\n",
       "</div>"
      ],
      "text/plain": [
       "                0\n",
       "count  136.000000\n",
       "mean   177.544118\n",
       "std    179.249252\n",
       "min      0.000000\n",
       "25%      1.000000\n",
       "50%    130.000000\n",
       "75%    320.500000\n",
       "max    526.000000"
      ]
     },
     "execution_count": 570,
     "metadata": {},
     "output_type": "execute_result"
    }
   ],
   "source": [
    "years_count_df.describe()"
   ]
  },
  {
   "cell_type": "markdown",
   "metadata": {},
   "source": [
    "One other way to look at the data from one of the earlier dataframes is to group by year and then group within that by state. (We're going to ignore the years with no titles.)"
   ]
  },
  {
   "cell_type": "code",
   "execution_count": 402,
   "metadata": {
    "collapsed": false
   },
   "outputs": [
    {
     "data": {
      "text/plain": [
       "Year  State               \n",
       "1789  New York                 1\n",
       "      Pennsylvania             1\n",
       "1790  New York                 1\n",
       "      Pennsylvania             1\n",
       "1791  New York                 1\n",
       "      Pennsylvania             2\n",
       "1792  New York                 1\n",
       "      Pennsylvania             2\n",
       "1793  New York                 1\n",
       "      Pennsylvania             2\n",
       "1794  Pennsylvania             2\n",
       "1795  Pennsylvania             2\n",
       "1796  Pennsylvania             2\n",
       "1797  Pennsylvania             1\n",
       "1798  Pennsylvania             1\n",
       "1799  Pennsylvania             1\n",
       "1800  District of Columbia     1\n",
       "      Pennsylvania             2\n",
       "1801  District of Columbia     1\n",
       "1802  District of Columbia     1\n",
       "1803  District of Columbia     1\n",
       "1804  District of Columbia     1\n",
       "1805  District of Columbia     1\n",
       "1806  District of Columbia     1\n",
       "1807  District of Columbia     1\n",
       "1808  District of Columbia     1\n",
       "1809  District of Columbia     1\n",
       "1828  Georgia                  1\n",
       "1829  Georgia                  2\n",
       "1830  Georgia                  1\n",
       "                              ..\n",
       "1922  Kansas                   4\n",
       "      Kentucky                17\n",
       "      Louisiana               18\n",
       "      Maryland                 5\n",
       "      Michigan                 7\n",
       "      Minnesota               14\n",
       "      Mississippi              9\n",
       "      Missouri                17\n",
       "      Montana                  4\n",
       "      Nebraska                 5\n",
       "      Nevada                   3\n",
       "      New Mexico               7\n",
       "      New York                 3\n",
       "      North Carolina           9\n",
       "      North Dakota            10\n",
       "      Ohio                     2\n",
       "      Oklahoma                 7\n",
       "      Oregon                  11\n",
       "      Pennsylvania             2\n",
       "      South Carolina          20\n",
       "      Tennessee               12\n",
       "      Texas                    4\n",
       "      Utah                     5\n",
       "      Vermont                 11\n",
       "      Virginia                 6\n",
       "      Washington               7\n",
       "      West Virginia            3\n",
       "      Wisconsin                1\n",
       "1923  Michigan                 1\n",
       "1924  Michigan                 1\n",
       "dtype: int64"
      ]
     },
     "execution_count": 402,
     "metadata": {},
     "output_type": "execute_result"
    }
   ],
   "source": [
    "years_df.groupby([\"Year\",\"State\"]).size()"
   ]
  }
 ],
 "metadata": {
  "anaconda-cloud": {},
  "kernelspec": {
   "display_name": "Python 3",
   "language": "python",
   "name": "python3"
  },
  "language_info": {
   "codemirror_mode": {
    "name": "ipython",
    "version": 3
   },
   "file_extension": ".py",
   "mimetype": "text/x-python",
   "name": "python",
   "nbconvert_exporter": "python",
   "pygments_lexer": "ipython3",
   "version": "3.5.2"
  }
 },
 "nbformat": 4,
 "nbformat_minor": 1
}
